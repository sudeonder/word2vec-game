{
 "cells": [
  {
   "cell_type": "markdown",
   "id": "2530ce1d",
   "metadata": {},
   "source": [
    "## face similarity calculator"
   ]
  },
  {
   "cell_type": "code",
   "execution_count": null,
   "id": "a45ce1d2",
   "metadata": {
    "vscode": {
     "languageId": "plaintext"
    }
   },
   "outputs": [],
   "source": []
  }
 ],
 "metadata": {
  "language_info": {
   "name": "python"
  }
 },
 "nbformat": 4,
 "nbformat_minor": 5
}
