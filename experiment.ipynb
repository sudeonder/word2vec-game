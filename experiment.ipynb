{
 "cells": [
  {
   "cell_type": "markdown",
   "id": "6e9594e9",
   "metadata": {},
   "source": [
    "## experiments with latent space arithmatics of word2vec space"
   ]
  }
 ],
 "metadata": {
  "language_info": {
   "name": "python"
  }
 },
 "nbformat": 4,
 "nbformat_minor": 5
}
