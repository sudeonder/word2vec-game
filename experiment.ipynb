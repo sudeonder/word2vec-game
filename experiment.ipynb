{
  "cells": [
    {
      "cell_type": "code",
      "source": [
        "!pip install gensim"
      ],
      "metadata": {
        "id": "URnm4ZA-xflr",
        "outputId": "18b8d18a-b3c2-4346-845a-0aed7571c922",
        "colab": {
          "base_uri": "https://localhost:8080/",
          "height": 671
        }
      },
      "id": "URnm4ZA-xflr",
      "execution_count": 3,
      "outputs": [
        {
          "output_type": "stream",
          "name": "stdout",
          "text": [
            "Collecting gensim\n",
            "  Downloading gensim-4.3.3-cp311-cp311-manylinux_2_17_x86_64.manylinux2014_x86_64.whl.metadata (8.1 kB)\n",
            "Collecting numpy<2.0,>=1.18.5 (from gensim)\n",
            "  Downloading numpy-1.26.4-cp311-cp311-manylinux_2_17_x86_64.manylinux2014_x86_64.whl.metadata (61 kB)\n",
            "\u001b[2K     \u001b[90m━━━━━━━━━━━━━━━━━━━━━━━━━━━━━━━━━━━━━━━━\u001b[0m \u001b[32m61.0/61.0 kB\u001b[0m \u001b[31m3.0 MB/s\u001b[0m eta \u001b[36m0:00:00\u001b[0m\n",
            "\u001b[?25hCollecting scipy<1.14.0,>=1.7.0 (from gensim)\n",
            "  Downloading scipy-1.13.1-cp311-cp311-manylinux_2_17_x86_64.manylinux2014_x86_64.whl.metadata (60 kB)\n",
            "\u001b[2K     \u001b[90m━━━━━━━━━━━━━━━━━━━━━━━━━━━━━━━━━━━━━━━━\u001b[0m \u001b[32m60.6/60.6 kB\u001b[0m \u001b[31m3.1 MB/s\u001b[0m eta \u001b[36m0:00:00\u001b[0m\n",
            "\u001b[?25hRequirement already satisfied: smart-open>=1.8.1 in /usr/local/lib/python3.11/dist-packages (from gensim) (7.3.0.post1)\n",
            "Requirement already satisfied: wrapt in /usr/local/lib/python3.11/dist-packages (from smart-open>=1.8.1->gensim) (1.17.2)\n",
            "Downloading gensim-4.3.3-cp311-cp311-manylinux_2_17_x86_64.manylinux2014_x86_64.whl (26.7 MB)\n",
            "\u001b[2K   \u001b[90m━━━━━━━━━━━━━━━━━━━━━━━━━━━━━━━━━━━━━━━━\u001b[0m \u001b[32m26.7/26.7 MB\u001b[0m \u001b[31m55.8 MB/s\u001b[0m eta \u001b[36m0:00:00\u001b[0m\n",
            "\u001b[?25hDownloading numpy-1.26.4-cp311-cp311-manylinux_2_17_x86_64.manylinux2014_x86_64.whl (18.3 MB)\n",
            "\u001b[2K   \u001b[90m━━━━━━━━━━━━━━━━━━━━━━━━━━━━━━━━━━━━━━━━\u001b[0m \u001b[32m18.3/18.3 MB\u001b[0m \u001b[31m57.6 MB/s\u001b[0m eta \u001b[36m0:00:00\u001b[0m\n",
            "\u001b[?25hDownloading scipy-1.13.1-cp311-cp311-manylinux_2_17_x86_64.manylinux2014_x86_64.whl (38.6 MB)\n",
            "\u001b[2K   \u001b[90m━━━━━━━━━━━━━━━━━━━━━━━━━━━━━━━━━━━━━━━━\u001b[0m \u001b[32m38.6/38.6 MB\u001b[0m \u001b[31m16.1 MB/s\u001b[0m eta \u001b[36m0:00:00\u001b[0m\n",
            "\u001b[?25hInstalling collected packages: numpy, scipy, gensim\n",
            "  Attempting uninstall: numpy\n",
            "    Found existing installation: numpy 2.0.2\n",
            "    Uninstalling numpy-2.0.2:\n",
            "      Successfully uninstalled numpy-2.0.2\n",
            "  Attempting uninstall: scipy\n",
            "    Found existing installation: scipy 1.15.3\n",
            "    Uninstalling scipy-1.15.3:\n",
            "      Successfully uninstalled scipy-1.15.3\n",
            "\u001b[31mERROR: pip's dependency resolver does not currently take into account all the packages that are installed. This behaviour is the source of the following dependency conflicts.\n",
            "tsfresh 0.21.0 requires scipy>=1.14.0; python_version >= \"3.10\", but you have scipy 1.13.1 which is incompatible.\n",
            "opencv-python-headless 4.12.0.88 requires numpy<2.3.0,>=2; python_version >= \"3.9\", but you have numpy 1.26.4 which is incompatible.\n",
            "thinc 8.3.6 requires numpy<3.0.0,>=2.0.0, but you have numpy 1.26.4 which is incompatible.\u001b[0m\u001b[31m\n",
            "\u001b[0mSuccessfully installed gensim-4.3.3 numpy-1.26.4 scipy-1.13.1\n"
          ]
        },
        {
          "output_type": "display_data",
          "data": {
            "application/vnd.colab-display-data+json": {
              "pip_warning": {
                "packages": [
                  "numpy"
                ]
              },
              "id": "23d746bc089d4d7d9de0553587e543c5"
            }
          },
          "metadata": {}
        }
      ]
    },
    {
      "cell_type": "code",
      "source": [
        "from gensim.models import Word2Vec, KeyedVectors"
      ],
      "metadata": {
        "id": "zrVrnK3dxdYJ"
      },
      "id": "zrVrnK3dxdYJ",
      "execution_count": 1,
      "outputs": []
    },
    {
      "cell_type": "code",
      "source": [
        "import gensim.downloader as api\n",
        "\n",
        "model: KeyedVectors = api.load('word2vec-google-news-300')"
      ],
      "metadata": {
        "id": "uCoDn1Xe7kNg",
        "outputId": "30585b27-e89d-46a3-e37f-0332891e48ce",
        "colab": {
          "base_uri": "https://localhost:8080/"
        }
      },
      "id": "uCoDn1Xe7kNg",
      "execution_count": 2,
      "outputs": [
        {
          "output_type": "stream",
          "name": "stdout",
          "text": [
            "[==================================================] 100.0% 1662.8/1662.8MB downloaded\n"
          ]
        }
      ]
    },
    {
      "cell_type": "code",
      "source": [
        "print(model.most_similar(\"latent\", topn=10))"
      ],
      "metadata": {
        "id": "GK-uPb0K7_xR",
        "outputId": "6cfa7ae0-6fe2-4630-eac9-f1d671973cc4",
        "colab": {
          "base_uri": "https://localhost:8080/"
        }
      },
      "id": "GK-uPb0K7_xR",
      "execution_count": 29,
      "outputs": [
        {
          "output_type": "stream",
          "name": "stdout",
          "text": [
            "[('deep_seated', 0.4756065011024475), ('unexpressed', 0.47346505522727966), ('unarticulated', 0.46540096402168274), ('untapped', 0.4646637737751007), ('Latent', 0.46124395728111267), ('inborn', 0.4522724151611328), ('libidinal', 0.44581106305122375), ('innate', 0.4415561854839325), ('hitherto_unrecognized', 0.437870591878891), ('repressed', 0.4371379315853119)]\n"
          ]
        }
      ]
    },
    {
      "cell_type": "code",
      "source": [
        "model.most_similar(positive=[\"studying\",\"success\"], negative=[\"failure\"], topn=5)"
      ],
      "metadata": {
        "id": "SQ8dNcaz_VfR",
        "outputId": "1896b076-8fc9-4b8f-916c-1be0e159abee",
        "colab": {
          "base_uri": "https://localhost:8080/"
        }
      },
      "id": "SQ8dNcaz_VfR",
      "execution_count": 16,
      "outputs": [
        {
          "output_type": "execute_result",
          "data": {
            "text/plain": [
              "[('researching', 0.5164424180984497),\n",
              " ('studied', 0.513462245464325),\n",
              " ('premedicine', 0.4411284923553467),\n",
              " ('exploring', 0.42457419633865356),\n",
              " ('honing', 0.41548120975494385)]"
            ]
          },
          "metadata": {},
          "execution_count": 16
        }
      ]
    },
    {
      "cell_type": "code",
      "source": [
        "cos = model.similarity(\"battlefield\", \"hot\")\n",
        "cos"
      ],
      "metadata": {
        "id": "FJYkCTgSAe6H",
        "outputId": "07245221-9bd9-449b-fb08-4403bd40d316",
        "colab": {
          "base_uri": "https://localhost:8080/"
        }
      },
      "id": "FJYkCTgSAe6H",
      "execution_count": 15,
      "outputs": [
        {
          "output_type": "execute_result",
          "data": {
            "text/plain": [
              "0.06507228"
            ]
          },
          "metadata": {},
          "execution_count": 15
        }
      ]
    },
    {
      "cell_type": "code",
      "source": [
        "vec = model[\"man\"] + (model[\"queen\"] - model[\"king\"])\n",
        "closest = model.similar_by_vector(vec, topn=5)\n",
        "\n",
        "closest"
      ],
      "metadata": {
        "id": "aKvnnv6kAvU5",
        "outputId": "45cb360f-ac0e-4b9d-a27f-0502191f30c9",
        "colab": {
          "base_uri": "https://localhost:8080/"
        }
      },
      "id": "aKvnnv6kAvU5",
      "execution_count": 19,
      "outputs": [
        {
          "output_type": "execute_result",
          "data": {
            "text/plain": [
              "[('woman', 0.7186801433563232),\n",
              " ('man', 0.6557512283325195),\n",
              " ('girl', 0.5882835388183594),\n",
              " ('lady', 0.5754351615905762),\n",
              " ('teenage_girl', 0.5700528025627136)]"
            ]
          },
          "metadata": {},
          "execution_count": 19
        }
      ]
    },
    {
      "cell_type": "code",
      "source": [
        "from numpy import dot\n",
        "from numpy.linalg import norm\n",
        "\n",
        "def cos_sim(a,b):\n",
        "   return dot(a, b)/(norm(a)*norm(b))\n",
        "\n",
        "vect = model['pc']\n",
        "vect2 = model['computer']\n",
        "sim = model.similarity('pc', 'computer')\n",
        "simman = cos_sim(vect,vect2)\n",
        "\n",
        "\n",
        "print(sim)\n",
        "print(simman)\n"
      ],
      "metadata": {
        "id": "PTRoqiN2BWYe",
        "outputId": "c75a4a46-937b-4feb-9d2d-5d00713fd6e1",
        "colab": {
          "base_uri": "https://localhost:8080/"
        }
      },
      "id": "PTRoqiN2BWYe",
      "execution_count": 28,
      "outputs": [
        {
          "output_type": "stream",
          "name": "stdout",
          "text": [
            "0.2656374\n",
            "0.26563743\n"
          ]
        }
      ]
    }
  ],
  "metadata": {
    "language_info": {
      "name": "python"
    },
    "colab": {
      "provenance": []
    },
    "kernelspec": {
      "name": "python3",
      "display_name": "Python 3"
    }
  },
  "nbformat": 4,
  "nbformat_minor": 5
}