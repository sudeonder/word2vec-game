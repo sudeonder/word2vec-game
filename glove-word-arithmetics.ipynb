{
 "cells": [
  {
   "cell_type": "markdown",
   "id": "703e05fe",
   "metadata": {},
   "source": [
    "### Word Embeddings and Visualizations with GloVe and t-SNE"
   ]
  }
 ],
 "metadata": {
  "language_info": {
   "name": "python"
  }
 },
 "nbformat": 4,
 "nbformat_minor": 5
}
